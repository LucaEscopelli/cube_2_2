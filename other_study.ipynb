{
 "cells": [
  {
   "cell_type": "code",
   "execution_count": 1,
   "metadata": {},
   "outputs": [],
   "source": [
    "from cube import cube\n",
    "from tqdm import tqdm\n",
    "import numpy as np"
   ]
  },
  {
   "cell_type": "code",
   "execution_count": 2,
   "metadata": {},
   "outputs": [
    {
     "name": "stderr",
     "output_type": "stream",
     "text": [
      "100%|██████████| 1/1 [00:00<?, ?it/s]\n"
     ]
    },
    {
     "name": "stdout",
     "output_type": "stream",
     "text": [
      "0\n"
     ]
    },
    {
     "name": "stderr",
     "output_type": "stream",
     "text": [
      "100%|██████████| 2/2 [00:00<?, ?it/s]\n"
     ]
    },
    {
     "name": "stdout",
     "output_type": "stream",
     "text": [
      "1\n"
     ]
    },
    {
     "name": "stderr",
     "output_type": "stream",
     "text": [
      "100%|██████████| 12/12 [00:00<00:00, 3968.12it/s]\n"
     ]
    },
    {
     "name": "stdout",
     "output_type": "stream",
     "text": [
      "2\n"
     ]
    },
    {
     "name": "stderr",
     "output_type": "stream",
     "text": [
      "100%|██████████| 64/64 [00:00<00:00, 2212.81it/s]\n"
     ]
    },
    {
     "name": "stdout",
     "output_type": "stream",
     "text": [
      "3\n"
     ]
    },
    {
     "name": "stderr",
     "output_type": "stream",
     "text": [
      "  0%|          | 0/274 [00:00<?, ?it/s]"
     ]
    },
    {
     "name": "stderr",
     "output_type": "stream",
     "text": [
      "100%|██████████| 274/274 [00:00<00:00, 1635.32it/s]\n"
     ]
    },
    {
     "name": "stdout",
     "output_type": "stream",
     "text": [
      "4\n"
     ]
    },
    {
     "name": "stderr",
     "output_type": "stream",
     "text": [
      "100%|██████████| 336/336 [00:00<00:00, 1300.61it/s]\n"
     ]
    },
    {
     "name": "stdout",
     "output_type": "stream",
     "text": [
      "5\n"
     ]
    },
    {
     "name": "stderr",
     "output_type": "stream",
     "text": [
      "100%|██████████| 40/40 [00:00<00:00, 757.20it/s]"
     ]
    },
    {
     "name": "stdout",
     "output_type": "stream",
     "text": [
      "6\n"
     ]
    },
    {
     "name": "stderr",
     "output_type": "stream",
     "text": [
      "\n"
     ]
    }
   ],
   "source": [
    "distance = {}\n",
    "only_orientation = [[1,0],[1,0],[1,0],[1,0],[1,0],[1,0],[1,0]]\n",
    "distance[0] = [cube(only_orientation)]\n",
    "\n",
    "i = 0\n",
    "\n",
    "all_cube_states = [cube(only_orientation)]\n",
    "\n",
    "while distance[i] != []:\n",
    "    cube_list = []\n",
    "    for state in tqdm(distance[i]):\n",
    "        for j in range(3):\n",
    "            state_copy = state.copy()\n",
    "            state_copy.make_move('f', j + 1)\n",
    "            if not state_copy.is_in(all_cube_states):\n",
    "                cube_list.append(state_copy)\n",
    "                all_cube_states.append(state_copy)\n",
    "\n",
    "        for j in range(3):\n",
    "            state_copy = state.copy()\n",
    "            state_copy.make_move('r', j + 1)\n",
    "            if not state_copy.is_in(all_cube_states):\n",
    "                cube_list.append(state_copy)\n",
    "                all_cube_states.append(state_copy)\n",
    "\n",
    "\n",
    "        for j in range(3):\n",
    "            state_copy = state.copy()\n",
    "            state_copy.make_move('u', j + 1)\n",
    "            if not state_copy.is_in(all_cube_states):\n",
    "                cube_list.append(state_copy)\n",
    "                all_cube_states.append(state_copy)\n",
    "        \n",
    "\n",
    "\n",
    "    distance[i + 1] = cube_list\n",
    "    print(i)\n",
    "    i += 1"
   ]
  },
  {
   "cell_type": "code",
   "execution_count": 3,
   "metadata": {},
   "outputs": [
    {
     "name": "stdout",
     "output_type": "stream",
     "text": [
      "0 1\n",
      "1 2\n",
      "2 12\n",
      "3 64\n",
      "4 274\n",
      "5 336\n",
      "6 40\n",
      "7 0\n"
     ]
    }
   ],
   "source": [
    "for i in distance:\n",
    "    print(i, len(distance[i]))"
   ]
  },
  {
   "cell_type": "code",
   "execution_count": 4,
   "metadata": {},
   "outputs": [
    {
     "data": {
      "text/plain": [
       "729"
      ]
     },
     "execution_count": 4,
     "metadata": {},
     "output_type": "execute_result"
    }
   ],
   "source": [
    "len(all_cube_states)"
   ]
  },
  {
   "cell_type": "markdown",
   "metadata": {},
   "source": [
    "Concluímos que no pior dos casos precisamos de 6 movimentos para sair de uma classe lateral para o subgrupo."
   ]
  },
  {
   "cell_type": "code",
   "execution_count": 2,
   "metadata": {},
   "outputs": [
    {
     "name": "stderr",
     "output_type": "stream",
     "text": [
      "100%|██████████| 1/1 [00:00<?, ?it/s]\n",
      "C:\\Users\\lucae\\AppData\\Local\\Temp\\ipykernel_19668\\1370434961.py:10: DeprecationWarning: elementwise comparison failed; this will raise an error in the future.\n",
      "  while distance[i] != []:\n"
     ]
    },
    {
     "name": "stdout",
     "output_type": "stream",
     "text": [
      "0\n"
     ]
    },
    {
     "name": "stderr",
     "output_type": "stream",
     "text": [
      "100%|██████████| 9/9 [00:00<00:00, 4536.02it/s]\n"
     ]
    },
    {
     "name": "stdout",
     "output_type": "stream",
     "text": [
      "1\n"
     ]
    },
    {
     "name": "stderr",
     "output_type": "stream",
     "text": [
      "100%|██████████| 54/54 [00:00<00:00, 5414.59it/s]\n"
     ]
    },
    {
     "name": "stdout",
     "output_type": "stream",
     "text": [
      "2\n"
     ]
    },
    {
     "name": "stderr",
     "output_type": "stream",
     "text": [
      "100%|██████████| 321/321 [00:00<00:00, 3094.83it/s]\n"
     ]
    },
    {
     "name": "stdout",
     "output_type": "stream",
     "text": [
      "3\n"
     ]
    },
    {
     "name": "stderr",
     "output_type": "stream",
     "text": [
      "100%|██████████| 1847/1847 [00:00<00:00, 4834.93it/s]\n"
     ]
    },
    {
     "name": "stdout",
     "output_type": "stream",
     "text": [
      "4\n"
     ]
    },
    {
     "name": "stderr",
     "output_type": "stream",
     "text": [
      "100%|██████████| 9992/9992 [00:02<00:00, 4379.17it/s]\n"
     ]
    },
    {
     "name": "stdout",
     "output_type": "stream",
     "text": [
      "5\n"
     ]
    },
    {
     "name": "stderr",
     "output_type": "stream",
     "text": [
      "100%|██████████| 50136/50136 [00:11<00:00, 4248.39it/s]\n"
     ]
    },
    {
     "name": "stdout",
     "output_type": "stream",
     "text": [
      "6\n"
     ]
    },
    {
     "name": "stderr",
     "output_type": "stream",
     "text": [
      "100%|██████████| 227536/227536 [00:53<00:00, 4246.96it/s]\n"
     ]
    },
    {
     "name": "stdout",
     "output_type": "stream",
     "text": [
      "7\n"
     ]
    },
    {
     "name": "stderr",
     "output_type": "stream",
     "text": [
      "100%|██████████| 870072/870072 [08:49<00:00, 1641.72it/s] \n"
     ]
    },
    {
     "name": "stdout",
     "output_type": "stream",
     "text": [
      "8\n"
     ]
    },
    {
     "name": "stderr",
     "output_type": "stream",
     "text": [
      "100%|██████████| 1887748/1887748 [1:24:43<00:00, 371.37it/s]   \n"
     ]
    },
    {
     "name": "stdout",
     "output_type": "stream",
     "text": [
      "9\n"
     ]
    },
    {
     "name": "stderr",
     "output_type": "stream",
     "text": [
      "100%|██████████| 623800/623800 [47:11<00:00, 220.31it/s]   \n"
     ]
    },
    {
     "name": "stdout",
     "output_type": "stream",
     "text": [
      "10\n"
     ]
    },
    {
     "name": "stderr",
     "output_type": "stream",
     "text": [
      "100%|██████████| 2644/2644 [00:01<00:00, 1413.10it/s]\n"
     ]
    },
    {
     "name": "stdout",
     "output_type": "stream",
     "text": [
      "11\n"
     ]
    },
    {
     "name": "stderr",
     "output_type": "stream",
     "text": [
      "C:\\Users\\lucae\\AppData\\Local\\Temp\\ipykernel_19668\\1370434961.py:10: DeprecationWarning: The truth value of an empty array is ambiguous. Returning False, but in future this will result in an error. Use `array.size > 0` to check that an array is not empty.\n",
      "  while distance[i] != []:\n"
     ]
    }
   ],
   "source": [
    "distance = {}\n",
    "distance[0] = [cube()]\n",
    "\n",
    "i = 0\n",
    "\n",
    "all_cube_states = [cube()]\n",
    "\n",
    "integers_array = np.array([cube().get_integer()])\n",
    "\n",
    "while distance[i] != []:\n",
    "    cube_list = []\n",
    "    this_distance_integers = []\n",
    "    for state in tqdm(distance[i]):\n",
    "        for j in range(3):\n",
    "            state_copy = state.copy()\n",
    "            state_copy.make_move('f', j + 1)\n",
    "            integer_value = state_copy.get_integer()\n",
    "            this_distance_integers.append(integer_value)\n",
    "            cube_list.append(state_copy)\n",
    "\n",
    "\n",
    "        for j in range(3):\n",
    "            state_copy = state.copy()\n",
    "            state_copy.make_move('r', j + 1)\n",
    "            integer_value = state_copy.get_integer()\n",
    "            this_distance_integers.append(integer_value)\n",
    "            cube_list.append(state_copy)\n",
    "\n",
    "\n",
    "        for j in range(3):\n",
    "            state_copy = state.copy()\n",
    "            state_copy.make_move('u', j + 1)\n",
    "            integer_value = state_copy.get_integer()\n",
    "            this_distance_integers.append(integer_value)\n",
    "            cube_list.append(state_copy)\n",
    "\n",
    "    # Convert the lists to np array\n",
    "    this_integers_array = np.array(this_distance_integers)\n",
    "    cube_array = np.array(cube_list)\n",
    "\n",
    "    # Removing inside repetitions\n",
    "    unique_values, indices_of_internal_repeats = np.unique(this_integers_array,return_index=True)\n",
    "    this_integers_array = this_integers_array[indices_of_internal_repeats]\n",
    "    cube_array = cube_array[indices_of_internal_repeats]\n",
    "\n",
    "    # Remove cases that are equal to some before\n",
    "    indices_not_in_array2 = np.where(~np.isin(this_integers_array, integers_array))[0]\n",
    "    cube_array = cube_array[indices_not_in_array2]\n",
    "\n",
    "    integers_array = np.concatenate((integers_array, this_integers_array[indices_not_in_array2]))\n",
    "        \n",
    "    distance[i + 1] = cube_array\n",
    "    print(i)\n",
    "    i += 1"
   ]
  },
  {
   "cell_type": "code",
   "execution_count": 3,
   "metadata": {},
   "outputs": [
    {
     "name": "stdout",
     "output_type": "stream",
     "text": [
      "0 1\n",
      "1 9\n",
      "2 54\n",
      "3 321\n",
      "4 1847\n",
      "5 9992\n",
      "6 50136\n",
      "7 227536\n",
      "8 870072\n",
      "9 1887748\n",
      "10 623800\n",
      "11 2644\n",
      "12 0\n"
     ]
    }
   ],
   "source": [
    "for i in distance:\n",
    "    print(i, len(distance[i]))"
   ]
  },
  {
   "cell_type": "code",
   "execution_count": 4,
   "metadata": {},
   "outputs": [
    {
     "name": "stdout",
     "output_type": "stream",
     "text": [
      "Data saved to tamanhos_solucoes.pickle\n"
     ]
    }
   ],
   "source": [
    "import pickle\n",
    "\n",
    "# Specify the file path where you want to save the pickle file\n",
    "file_path = 'tamanhos_solucoes.pickle'\n",
    "\n",
    "# Open the file in binary write mode (wb)\n",
    "with open(file_path, 'wb') as file:\n",
    "    # Use pickle.dump() to save the data to the file\n",
    "    pickle.dump(distance, file)\n",
    "\n",
    "print(f'Data saved to {file_path}')\n"
   ]
  },
  {
   "cell_type": "code",
   "execution_count": 5,
   "metadata": {},
   "outputs": [
    {
     "data": {
      "text/plain": [
       "1"
      ]
     },
     "execution_count": 5,
     "metadata": {},
     "output_type": "execute_result"
    }
   ],
   "source": [
    "len(all_cube_states)"
   ]
  },
  {
   "cell_type": "code",
   "execution_count": 7,
   "metadata": {},
   "outputs": [
    {
     "data": {
      "text/plain": [
       "3674160"
      ]
     },
     "execution_count": 7,
     "metadata": {},
     "output_type": "execute_result"
    }
   ],
   "source": [
    "len(integers_array)"
   ]
  },
  {
   "cell_type": "code",
   "execution_count": 8,
   "metadata": {},
   "outputs": [
    {
     "name": "stdout",
     "output_type": "stream",
     "text": [
      "0 1\n",
      "1 9\n",
      "2 54\n",
      "3 321\n",
      "4 1847\n",
      "5 9992\n",
      "6 50136\n",
      "7 227536\n",
      "8 870072\n",
      "9 1887748\n",
      "10 623800\n",
      "11 2644\n",
      "12 0\n",
      "3674160\n"
     ]
    }
   ],
   "source": [
    "s = 0\n",
    "for i in distance:\n",
    "    s += len(distance[i])\n",
    "    print(i, len(distance[i]))\n",
    "\n",
    "print(s)"
   ]
  },
  {
   "cell_type": "code",
   "execution_count": null,
   "metadata": {},
   "outputs": [],
   "source": []
  }
 ],
 "metadata": {
  "kernelspec": {
   "display_name": "Python 3",
   "language": "python",
   "name": "python3"
  },
  "language_info": {
   "codemirror_mode": {
    "name": "ipython",
    "version": 3
   },
   "file_extension": ".py",
   "mimetype": "text/x-python",
   "name": "python",
   "nbconvert_exporter": "python",
   "pygments_lexer": "ipython3",
   "version": "3.9.5"
  }
 },
 "nbformat": 4,
 "nbformat_minor": 2
}
