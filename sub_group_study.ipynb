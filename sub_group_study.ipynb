{
 "cells": [
  {
   "cell_type": "code",
   "execution_count": 8,
   "metadata": {},
   "outputs": [],
   "source": [
    "from cube import cube\n",
    "from tqdm import tqdm"
   ]
  },
  {
   "cell_type": "code",
   "execution_count": 2,
   "metadata": {},
   "outputs": [],
   "source": [
    "my_cube = cube()"
   ]
  },
  {
   "cell_type": "code",
   "execution_count": 3,
   "metadata": {},
   "outputs": [],
   "source": [
    "distance = {}\n",
    "distance[0] = [cube()]\n",
    "\n",
    "i = 0\n",
    "\n",
    "all_cube_states = [cube()]\n",
    "\n",
    "while distance[i] != []:\n",
    "    cube_list = []\n",
    "    for state in distance[i]:\n",
    "        state_copy = state.copy()\n",
    "        state_copy.make_move('f', 2)\n",
    "        if not state_copy.is_in(all_cube_states):\n",
    "            cube_list.append(state_copy)\n",
    "            all_cube_states.append(state_copy)\n",
    "\n",
    "        state_copy = state.copy()\n",
    "        state_copy.make_move('r', 2)\n",
    "        if not state_copy.is_in(all_cube_states):\n",
    "            cube_list.append(state_copy)\n",
    "            all_cube_states.append(state_copy)\n",
    "\n",
    "\n",
    "        for j in range(3):\n",
    "            state_copy = state.copy()\n",
    "            state_copy.make_move('u', j + 1)\n",
    "            if not state_copy.is_in(all_cube_states):\n",
    "                cube_list.append(state_copy)\n",
    "                all_cube_states.append(state_copy)\n",
    "        \n",
    "\n",
    "\n",
    "    distance[i + 1] = cube_list\n",
    "    i += 1\n"
   ]
  },
  {
   "cell_type": "code",
   "execution_count": 4,
   "metadata": {},
   "outputs": [
    {
     "name": "stdout",
     "output_type": "stream",
     "text": [
      "0 1\n",
      "1 5\n",
      "2 14\n",
      "3 41\n",
      "4 87\n",
      "5 172\n",
      "6 344\n",
      "7 548\n",
      "8 776\n",
      "9 892\n",
      "10 1008\n",
      "11 816\n",
      "12 304\n",
      "13 32\n",
      "14 0\n"
     ]
    }
   ],
   "source": [
    "for i in distance:\n",
    "    print(i, len(distance[i]))"
   ]
  },
  {
   "cell_type": "code",
   "execution_count": 5,
   "metadata": {},
   "outputs": [
    {
     "data": {
      "text/plain": [
       "5040"
      ]
     },
     "execution_count": 5,
     "metadata": {},
     "output_type": "execute_result"
    }
   ],
   "source": [
    "len(all_cube_states)"
   ]
  },
  {
   "cell_type": "code",
   "execution_count": null,
   "metadata": {},
   "outputs": [],
   "source": []
  }
 ],
 "metadata": {
  "kernelspec": {
   "display_name": "Python 3",
   "language": "python",
   "name": "python3"
  },
  "language_info": {
   "codemirror_mode": {
    "name": "ipython",
    "version": 3
   },
   "file_extension": ".py",
   "mimetype": "text/x-python",
   "name": "python",
   "nbconvert_exporter": "python",
   "pygments_lexer": "ipython3",
   "version": "3.9.5"
  }
 },
 "nbformat": 4,
 "nbformat_minor": 2
}
