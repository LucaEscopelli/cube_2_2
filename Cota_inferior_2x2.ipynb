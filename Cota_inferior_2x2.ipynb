{
 "cells": [
  {
   "cell_type": "markdown",
   "metadata": {},
   "source": [
    "### Cálculo de cota inferior para o número de Deus no 2x2\n",
    "\n",
    "Vamos criar um código para obter uma cota inferior do número de Deus para o cubo 2x2x2. Nossa ideia no trabalho é calcular esse número e uma técnica interessante para isso é a de procurar cotas inferiores e superiores até elas se igualarem. No momento, temos como cota superior o valor de 20, que é o número de Deus para o cubo 3x3, então nesse código buscaremos uma cota inferior para o cubo em questão.\n",
    "\n",
    "A ideia do código é a de calcular quantos embaralhamentos são possíveis no cubo. Em seguida, calculamos quantos cenários podemos obter com um número limitado de movimentos. Enquanto o número de cenários for menor do que o número total de embaralhamentos, sabemos que existe ao menos um cenário que só pode ser obtido com mais movimentos, então podemos aumentar o número de movimentos e refazer o cálculo."
   ]
  },
  {
   "cell_type": "code",
   "execution_count": 1,
   "metadata": {},
   "outputs": [],
   "source": [
    "import pandas as pd\n",
    "import numpy as np\n",
    "import math"
   ]
  },
  {
   "cell_type": "markdown",
   "metadata": {},
   "source": [
    "#### Cálculo do tamanho do grupo\n",
    "\n",
    "Para calcular o tamanho do grupo, vamos pensar um pouco mais sobre a estrutura do cubo 2x2. O cubo possui 8 peças, sendo todas elas possuindo 3 cores. Como consideramos que dois embaralhamentos são os mesmos se podemos obter um por meio do outro através de movimentos de rotação do cubo, podemos fixar uma peça em seu lugar para usar como base (Note que para qualquer embaralhamento, podemos rotacionar o cubo e deixar a peça desejada na posição desejada). \n",
    "Por padrão, vamos fixar a peça inferior da esquerda e na parte traseira. Desse modo, os movimentos que podemos realizar são aqueles que não interferem na peça fixada, ou seja, os movimentos são R, U e F (com suas variações R', R2, U', U2, F' e F2). Portanto, temos 3 faces móveis que geram 9 movimentos possíveis para cada estado do cubo.\n",
    "\n",
    "Para calcular o tamanho do grupo, isso é, quantos embaralhamentos são possíveis, vamos pensar que das 8 peças temos 7 que podem trocar de lugar (lembrando que fixamos uma). Essas 7 podem permutar livremente entre si, inclusive existe algoritmo que realiza a troca de lugar de 2 peças. Portanto, já temos $7!$ possibilidades para os lugares de cada peça. Temos ainda que cada peça tem 3 cores, ou seja, 3 rotações, porém definindo a rotação de 6 peças móveis, teremos fixado a rotação de 7 peças (6 móveis e 1 fixa) o que implica que a rotação da última peça já está definida, dado que não podemos rotacionar apenas uma peça. Portanto, temos $3^6$ possibilidades de rotações. Logo, o tamanho do grupo é dado por:\n",
    "\n",
    "$$7! \\cdot 3^6$$"
   ]
  },
  {
   "cell_type": "code",
   "execution_count": 2,
   "metadata": {},
   "outputs": [],
   "source": [
    "group_size = math.factorial(7)*(3**6)\n",
    "moving_faces = 3"
   ]
  },
  {
   "cell_type": "markdown",
   "metadata": {},
   "source": [
    "Vamos criar uma função que calcule quantos embaralhamentos podemos fazer dado um número de movimentos e a quantidade de faces móveis que temos.\n",
    "\n",
    "A ideia da função é a de que para o primeiro movimento, podemos girar qualquer face em alguma das 3 formas (horário, anti-horário ou duplo). Para todos os movimentos seguintes, vamos girar uma face diferente da que foi movida anteriormente, então vamos considerar que temos uma face móvel a menos. Assim, seja $m$ o número de movimentos e $f$ o número de faces móveis, então o nosso número de embaralhamentos será:\n",
    "\n",
    "$$3f \\cdot (3(f-1))^{m-1}$$"
   ]
  },
  {
   "cell_type": "code",
   "execution_count": 3,
   "metadata": {},
   "outputs": [],
   "source": [
    "def number_of_scrambles(moving_faces, moves_made):\n",
    "    first_move_options = moving_faces*3\n",
    "    next_move_options = (moving_faces - 1)*3\n",
    "    scrambles = first_move_options*(next_move_options**(moves_made - 1))\n",
    "    return scrambles"
   ]
  },
  {
   "cell_type": "markdown",
   "metadata": {},
   "source": [
    "Agora que temos o tamanho definido junto com a função mencionada acima, vamos utilizar esses dados para calcular uma cota inferior. A ideia aqui é a de usar a função acima para calcular o número de estados que podemos encontrar com cada quantidade de movimento e ir somando esses valores até superar o tamanho do grupo. Quando conseguirmos superar esse valor, teremos uma cota inferior, dado que todos valores menores não são possíveis de ser o número de Deus pela lógica já apresentada."
   ]
  },
  {
   "cell_type": "code",
   "execution_count": 4,
   "metadata": {},
   "outputs": [
    {
     "name": "stdout",
     "output_type": "stream",
     "text": [
      "9\n"
     ]
    }
   ],
   "source": [
    "attempt = 0\n",
    "i = 0\n",
    "while attempt < group_size:\n",
    "    i += 1\n",
    "    attempt += number_of_scrambles(moving_faces, i)\n",
    "\n",
    "print(i)"
   ]
  },
  {
   "cell_type": "markdown",
   "metadata": {},
   "source": [
    "Concluímos, portanto, que o valor 9 é uma cota inferior para o número de Deus para o cubo 2x2. Temos, então, a cota inferior de 9 e a cota superior de 20. Devemos continuar nosso trabalho para aproximar esses valores e obter um número único."
   ]
  }
 ],
 "metadata": {
  "kernelspec": {
   "display_name": "Python 3",
   "language": "python",
   "name": "python3"
  },
  "language_info": {
   "codemirror_mode": {
    "name": "ipython",
    "version": 3
   },
   "file_extension": ".py",
   "mimetype": "text/x-python",
   "name": "python",
   "nbconvert_exporter": "python",
   "pygments_lexer": "ipython3",
   "version": "3.9.5"
  },
  "orig_nbformat": 4
 },
 "nbformat": 4,
 "nbformat_minor": 2
}
